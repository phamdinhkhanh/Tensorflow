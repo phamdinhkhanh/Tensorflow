{
 "cells": [
  {
   "cell_type": "markdown",
   "metadata": {
    "deletable": true,
    "editable": true
   },
   "source": [
    "# 1. Class tensor\n",
    "\n",
    "## 1.1. tf.Tensor()\n",
    "\n",
    "Là những kí tự hoặc tên gọi thể hiện kết quả đầu ra của một operation. Về bản chất nó chính là các object được khởi tạo từ các operation. Chẳng hạn như chúng ta có `c,d` trong triển khai bên dưới được gọi là tensor."
   ]
  },
  {
   "cell_type": "code",
   "execution_count": 57,
   "metadata": {
    "collapsed": true,
    "deletable": true,
    "editable": true
   },
   "outputs": [],
   "source": [
    "c = tf.constant([[1.0, 2.0], [3.0, 4.0]])\n",
    "d = tf.constant([[1.0, 1.0], [0.0, 1.0]])"
   ]
  },
  {
   "cell_type": "markdown",
   "metadata": {
    "deletable": true,
    "editable": true
   },
   "source": [
    "\n",
    "\n",
    "## 1.2. tf.SparseTensor()\n",
    "\n",
    "Là một dạng Tensor đặc biệt chỉ quan tâm đến các giá trị khác 0 của một tensor thông thường và tìm các biểu diễn tensor theo một dạng mới mà chỉ bao gồm các giá trị khác 0 và chỉ số vị trí của nó. Tensorflow biểu diễn SparseTensor thông qua 3 thành phần: `indices, values, dense_shape`. Do đó nó có cú pháp `SparseTensor(indices, values, dense_shape)`. Giả sử N và n_dims lần lượt là số quan sát và số chiều của SparseTensor.\n",
    "\n",
    "* indices:  Là một 2D-tensor của tensor `dense_shape` có giá trị đại diện cho `[vị trí quan sát, vị trí chiều]`. Xác định vị trí của của các phần tử khác 0 của SparseTensor. Chẳng hạn indices = [[1, 2], [3, 4]] thì các phần tử có vị trí [1, 2] và [3, 4] khác 0.\n",
    "* values: Là 1D-tensor xác định các giá trị của từng phần tử tương ứng với vị trí được xác định trong indices. Chẳng hạn với values = [32, 11] thì các phần tử ở vị trí [1, 2] bằng 32 và vị trí [3, 4] bằng 11.\n",
    "* dense_shape: Là 1D-tensor qui định các chiều của sparse tensor. Chẳng hạn dense_shape = [5, 4] ta hiểu rằng sparse tensor có số quan sát N = 5 và số chiều n_dims = 4.\n",
    "\n",
    "Bên dưới là ví dụ của SparseTensor."
   ]
  },
  {
   "cell_type": "code",
   "execution_count": 55,
   "metadata": {
    "collapsed": false,
    "deletable": true,
    "editable": true
   },
   "outputs": [
    {
     "name": "stdout",
     "output_type": "stream",
     "text": [
      "SparseTensorValue(indices=array([[1, 0],\n",
      "       [1, 2]], dtype=int64), values=array([2.1, 3.2], dtype=float32), dense_shape=array([4, 4], dtype=int64))\n"
     ]
    }
   ],
   "source": [
    "import tensorflow as tf\n",
    "x = tf.SparseTensor(indices = [[1, 0], [1, 2]], values = [2.1, 3.2], dense_shape = [4, 4])\n",
    "with tf.Session() as sess:\n",
    "    print(sess.run(x))"
   ]
  },
  {
   "cell_type": "markdown",
   "metadata": {
    "deletable": true,
    "editable": true
   },
   "source": [
    "Biểu diễn dưới dạng tensor thông thường như sau:"
   ]
  },
  {
   "cell_type": "code",
   "execution_count": 56,
   "metadata": {
    "collapsed": false,
    "deletable": true,
    "editable": true
   },
   "outputs": [
    {
     "name": "stdout",
     "output_type": "stream",
     "text": [
      "[[0.  0.  0.  0. ]\n",
      " [2.1 0.  3.2 0. ]\n",
      " [0.  0.  0.  0. ]\n",
      " [0.  0.  0.  0. ]]\n"
     ]
    }
   ],
   "source": [
    "y = tf.sparse_tensor_to_dense(x)\n",
    "with tf.Session() as sess:\n",
    "    print(sess.run(y))"
   ]
  },
  {
   "cell_type": "markdown",
   "metadata": {
    "deletable": true,
    "editable": true
   },
   "source": [
    "# 2. tf.data.Dataset()\n",
    "\n",
    "Khi chúng ta xây dựng một mạng nơ ron chúng ta sẽ cần quản lý quá trình truyền dữ liệu đầu vào theo các batch. Để làm được việc đó thì chúng ta sẽ sử dụng class Dataset. \n",
    "Class Dataset được dùng để biểu diễn một phương thức truyền dữ liệu đầu vào của một tợp hợp tensors (các tensor của biến dự báo và tensor của biến mục tiêu) và những phương thức biến đổi dữ liệu chứa trong những thành phần này.\n",
    "Kết quả trả về của Class Dataset là một Tensor hoặc Sparse Tensor.\n",
    "\n",
    "Cách khởi tạo một object Dataset gồm:\n",
    "\n",
    "## 2.1. Tạo Dataset từ hàm khởi tạo\n",
    "\n",
    "Chúng ta sẽ sử dụng một hàm số để khởi tạo để tạo ra Dataset thông qua hàm `Dataset.from_generator()` có cú pháp như sau:\n",
    "\n",
    "`\n",
    "from_generator(\n",
    "    generator,\n",
    "    output_types,\n",
    "    output_shapes=None,\n",
    "    args=None\n",
    ")\n",
    "`\n",
    "\n",
    "Trong đó generator là hàm khởi tạo sao cho nó không trả về kết quả mà trả về một hàm ở trạng thái pending (kết quả trả về của hàm được để sau yield thay vì return), output_types là kiểu biến, output_shapes là hình dạng dữ liệu."
   ]
  },
  {
   "cell_type": "code",
   "execution_count": 86,
   "metadata": {
    "collapsed": false,
    "deletable": true,
    "editable": true
   },
   "outputs": [
    {
     "name": "stderr",
     "output_type": "stream",
     "text": [
      "c:\\users\\laptoptcc\\appdata\\local\\programs\\python\\python36\\lib\\site-packages\\tensorflow\\python\\client\\session.py:1645: UserWarning: An interactive session is already active. This can cause out-of-memory errors in some cases. You must explicitly call `InteractiveSession.close()` to release resources held by the other session(s).\n",
      "  warnings.warn('An interactive session is already active. This can '\n"
     ]
    },
    {
     "data": {
      "text/plain": [
       "(1, array([1], dtype=int64))"
      ]
     },
     "execution_count": 86,
     "metadata": {},
     "output_type": "execute_result"
    }
   ],
   "source": [
    "import itertools\n",
    "import tensorflow as tf\n",
    "# Khởi tạo một generator.\n",
    "def gen():\n",
    "    for i in itertools.count(1):\n",
    "        yield (i, [1]*i)\n",
    "        \n",
    "ds = tf.data.Dataset.from_generator(\n",
    "    generator = gen, \n",
    "    output_types = (tf.int64, tf.int64),\n",
    "    output_shapes = (tf.TensorShape([]), tf.TensorShape([None]))\n",
    ")\n",
    "\n",
    "value = ds.make_one_shot_iterator().get_next()\n",
    "\n",
    "sess = tf.InteractiveSession()\n",
    "sess.run(value)"
   ]
  },
  {
   "cell_type": "code",
   "execution_count": 81,
   "metadata": {
    "collapsed": false,
    "deletable": true,
    "editable": true
   },
   "outputs": [
    {
     "data": {
      "text/plain": [
       "(2, array([1, 1], dtype=int64))"
      ]
     },
     "execution_count": 81,
     "metadata": {},
     "output_type": "execute_result"
    }
   ],
   "source": [
    "sess.run(value)"
   ]
  },
  {
   "cell_type": "markdown",
   "metadata": {},
   "source": [
    "Hàm make_one_shot_iterator() sẽ khởi tạo một enumerate để truy cập từng phần tử trong dataset. Do generator đang ở trạng thái pending nên mỗi lần gọi sess thì nó sẽ kích hoạt giá trị đầu tiên được trả về. Do đó giá trị của record tiếp theo chính là kết quả trả về của vòng lặp trong gen khi i tăng thêm 1 đơn vị so với trước đó.\n",
    "\n",
    "## 2.2. Tạo Dataset từ một tensor\n",
    "\n",
    "Chúng ta có thể tạo ra một Dataset từ một tensor bằng hàm `from_tensors(tensors)`."
   ]
  },
  {
   "cell_type": "code",
   "execution_count": 93,
   "metadata": {
    "collapsed": false
   },
   "outputs": [
    {
     "data": {
      "text/plain": [
       "array([[0, 1],\n",
       "       [2, 3],\n",
       "       [4, 5],\n",
       "       [6, 7],\n",
       "       [8, 9]])"
      ]
     },
     "execution_count": 93,
     "metadata": {},
     "output_type": "execute_result"
    }
   ],
   "source": [
    "import numpy as np\n",
    "ds = tf.data.Dataset.from_tensors(tf.constant(np.arange(10).reshape(-1, 2)))\n",
    "#Khởi tạo một iterator để truy cập các thành phần của dataset\n",
    "value = ds.make_one_shot_iterator().get_next()\n",
    "sess.run(value)"
   ]
  },
  {
   "cell_type": "markdown",
   "metadata": {},
   "source": [
    "Hoặc ta có thể sử dụng hàm `from_tensor_slices(tensors)` để khởi tạo Dataset. Khi đó Dataset là tợp hợp các lát cắt của tensors. "
   ]
  },
  {
   "cell_type": "code",
   "execution_count": 95,
   "metadata": {
    "collapsed": false
   },
   "outputs": [
    {
     "data": {
      "text/plain": [
       "array([0, 1])"
      ]
     },
     "execution_count": 95,
     "metadata": {},
     "output_type": "execute_result"
    }
   ],
   "source": [
    "ds = tf.data.Dataset.from_tensor_slices(tf.constant(np.arange(10).reshape(-1, 2)))\n",
    "value = ds.make_one_shot_iterator().get_next()\n",
    "sess.run(value)"
   ]
  },
  {
   "cell_type": "markdown",
   "metadata": {},
   "source": [
    "## 2.3. Map một function vào Dataset\n",
    "\n",
    "Chúng ta cần biến đổi các giá trị của Dataset theo một hàm nào đó. Khi đó sử dụng `interleave()` sẽ cho phép chúng ta áp dụng hàm số vào Dataset một cách xen kẽ. Cú pháp:\n",
    "\n",
    "`\n",
    "interleave(\n",
    "    map_func,\n",
    "    cycle_length,\n",
    "    block_length=1\n",
    ")\n",
    "`\n",
    "\n",
    "cycle_length và block_length sẽ lần lượt kiểm soát số lượng phần tử đầu vào và số lượng các các phần tử trong 1 vòng lặp được đưa vào. Bên dưới là ví dụ của việc map một hàm số vào 1 dataset. "
   ]
  },
  {
   "cell_type": "code",
   "execution_count": 123,
   "metadata": {
    "collapsed": false
   },
   "outputs": [
    {
     "data": {
      "text/plain": [
       "False"
      ]
     },
     "execution_count": 123,
     "metadata": {},
     "output_type": "execute_result"
    }
   ],
   "source": [
    "# NOTE: The following examples use `{ ... }` to represent the\n",
    "# contents of a dataset.\n",
    "a = tf.data.Dataset.from_tensors(tf.constant(np.arange(10)))\n",
    "\n",
    "# NOTE: New lines indicate \"block\" boundaries.\n",
    "a.interleave(lambda x: tf.data.Dataset.from_tensors(x).repeat(6),\n",
    "             cycle_length=2, block_length=4) == {\n",
    "    1, 1, 1, 1,\n",
    "    2, 2, 2, 2,\n",
    "    1, 1,\n",
    "    2, 2,\n",
    "    3, 3, 3, 3,\n",
    "    4, 4, 4, 4,\n",
    "    3, 3,\n",
    "    4, 4,\n",
    "    5, 5, 5, 5,\n",
    "    5, 5,\n",
    "}"
   ]
  },
  {
   "cell_type": "code",
   "execution_count": 124,
   "metadata": {
    "collapsed": false
   },
   "outputs": [
    {
     "data": {
      "text/plain": [
       "array([0, 1, 2, 3, 4, 5, 6, 7, 8, 9])"
      ]
     },
     "execution_count": 124,
     "metadata": {},
     "output_type": "execute_result"
    }
   ],
   "source": [
    "value = a.make_one_shot_iterator().get_next()\n",
    "sess.run(value)"
   ]
  },
  {
   "cell_type": "markdown",
   "metadata": {},
   "source": [
    "Để biến đổi các giá trị của một Dataset theo một hàm số nào đó, chúng ta sử dụng hàm map như sau:\n",
    "`\n",
    "map(\n",
    "    map_func,\n",
    "    num_parallel_calls=None\n",
    ")\n",
    "`\n",
    "trong đó map_func là hàm biến đổi."
   ]
  },
  {
   "cell_type": "code",
   "execution_count": 149,
   "metadata": {
    "collapsed": false
   },
   "outputs": [
    {
     "data": {
      "text/plain": [
       "array([ 1,  4,  9, 16, 25])"
      ]
     },
     "execution_count": 149,
     "metadata": {},
     "output_type": "execute_result"
    }
   ],
   "source": [
    "# NOTE: The following examples use `{ ... }` to represent the\n",
    "# contents of a dataset.\n",
    "a = tf.data.Dataset.from_tensors(tf.constant(np.arange(1, 6)))\n",
    "sess.run(a.map(lambda x: x**2).make_one_shot_iterator().get_next())"
   ]
  },
  {
   "cell_type": "code",
   "execution_count": 152,
   "metadata": {
    "collapsed": false
   },
   "outputs": [
    {
     "data": {
      "text/plain": [
       "(array([1, 2, 3]), array([b'foo', b'bar', b'zoo'], dtype=object))"
      ]
     },
     "execution_count": 152,
     "metadata": {},
     "output_type": "execute_result"
    }
   ],
   "source": [
    "a = tf.data.Dataset.from_tensors((tf.constant(np.arange(1, 4)), tf.constant([\"foo\", \"bar\", \"zoo\"])))\n",
    "sess.run(a.make_one_shot_iterator().get_next())"
   ]
  },
  {
   "cell_type": "code",
   "execution_count": 157,
   "metadata": {
    "collapsed": false
   },
   "outputs": [
    {
     "data": {
      "text/plain": [
       "b'120,4,setosa,versicolor,virginica'"
      ]
     },
     "execution_count": 157,
     "metadata": {},
     "output_type": "execute_result"
    }
   ],
   "source": [
    "ds = tf.data.TextLineDataset('iris_training.csv')\n",
    "sess.run(ds.make_one_shot_iterator().get_next())"
   ]
  },
  {
   "cell_type": "code",
   "execution_count": 159,
   "metadata": {
    "collapsed": false
   },
   "outputs": [
    {
     "data": {
      "text/plain": [
       "b'iris_training.csv'"
      ]
     },
     "execution_count": 159,
     "metadata": {},
     "output_type": "execute_result"
    }
   ],
   "source": [
    "ds = tf.data.Dataset.from_tensors('iris_training.csv')\n",
    "sess.run(ds.make_one_shot_iterator().get_next())"
   ]
  }
 ],
 "metadata": {
  "kernelspec": {
   "display_name": "Python 3",
   "language": "python",
   "name": "python3"
  },
  "language_info": {
   "codemirror_mode": {
    "name": "ipython",
    "version": 3
   },
   "file_extension": ".py",
   "mimetype": "text/x-python",
   "name": "python",
   "nbconvert_exporter": "python",
   "pygments_lexer": "ipython3",
   "version": "3.6.0"
  }
 },
 "nbformat": 4,
 "nbformat_minor": 2
}
