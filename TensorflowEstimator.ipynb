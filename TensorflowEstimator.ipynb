{
 "cells": [
  {
   "cell_type": "markdown",
   "metadata": {
    "deletable": true,
    "editable": true
   },
   "source": [
    "# 1. Xây dựng mạng nơ ron trên tensorflow\n",
    "\n",
    "Trong bài [giới thiệu tensorflow](https://www.kaggle.com/phamdinhkhanh/tensorflow-turtorial?scriptVersionId=6702388) chúng ta đã học được cách tạo ra một mạng nơ ron theo phương pháp code bậc thấp. Quá trình xây dựng các layer chúng ta phải xây dựng những bước cơ bản nhất như khởi tạo hệ số, phép nhân ma trận chuyển hóa layer, tính toán xác xuất đầu ra, xây dựng hàm loss function,.... Điều đó gây ra khó khăn cho các data scientist rất nhiều vì quá trình khởi tạo một mạng nơ ron nông là khả thi nhưng những mạng nơ ron sâu với vài trăm ngàn tầng ẩn việc code chay mỗi layer là bất khả thi. Chính vì thế chúng ta cần sự hỗ trợ của các thư viện bậc cao để khởi tạo các layer và huấn luyện, đánh giá và dự báo mô hình một cách dễ dàng hơn. Thông qua bài viết này chúng ta sẽ biết cách khởi tạo một mạng nơ ron như thế thông qua một class rất toàn năng. Đó chính là Estimator.\n",
    "Bên dưới là các bước xây dựng mạng nơ ron.\n",
    "\n",
    "# 2. Hàm xử lý dữ liệu đầu vào.\n",
    "\n",
    "Ở hàm này ta sẽ trả về một Dataset hoặc một Iterator Dataset của tensorflow từ đường link và tên file dữ liệu của tập train và test. \n",
    "\n",
    "* **Dataset** sẽ có tác dụng quản lý quá trình input dữ liệu đầu vào gồm các thành phần là một hoặc nhiều Tensors chẳng hạn như: Kích thước batch_size, số lần shuffle mẫu, lấy mẫu tái lặp hay không?.... \n",
    "* **Iterator Dataset** cũng gần giống như enumerate cho phép chúng ta truy cập vào các thành phần trong Dataset để thực hiện các vòng lặp khi huấn luyện qua các batches khác nhau đánh giá mô hình qua các tập dữ liệu khác nhau.\n",
    "\n",
    "Trong trường hợp tập dữ liệu là tập train chúng ta sẽ sử dụng Iterator Dataset do quá trình huấn luyện và đánh giá thuật toán gradient descent cần thực hiện trên nhiều batches khác nhau. Tập dữ liệu test là một tập dữ liệu cố định sử dụng cho dự báo nên không cần phải là một Iterator Dataset."
   ]
  },
  {
   "cell_type": "code",
   "execution_count": 1,
   "metadata": {
    "collapsed": false,
    "deletable": true,
    "editable": true
   },
   "outputs": [
    {
     "data": {
      "text/plain": [
       "<BatchDataset shapes: ({SepWid: (?,), SepLen: (?,), PenWid: (?,), PenLen: (?,)}, (?,)), types: ({SepWid: tf.float64, SepLen: tf.float64, PenWid: tf.float64, PenLen: tf.float64}, tf.int64)>"
      ]
     },
     "execution_count": 1,
     "metadata": {},
     "output_type": "execute_result"
    }
   ],
   "source": [
    "import os\n",
    "import io\n",
    "import urllib.request as request\n",
    "import numpy as np\n",
    "import pandas as pd\n",
    "import tensorflow as tf\n",
    "\n",
    "#Khai báo params\n",
    "IRIS_TRAIN = 'iris_training.csv'\n",
    "IRIS_TRAIN_PATH = 'https://raw.githubusercontent.com/phamdinhkhanh/Tensorflow/master/iris_training.csv'\n",
    "IRIS_TEST = 'iris_testing.csv'\n",
    "IRIS_TEST_PATH  = 'https://raw.githubusercontent.com/phamdinhkhanh/Tensorflow/master/iris_testing.csv'\n",
    "COLUMNS = ['SepWid', 'SepLen', 'PenWid', 'PenLen', 'Species']\n",
    "BATCH_SIZE = 100\n",
    "N_STEPS = 1000\n",
    "LEARNING_RATE = 0.2\n",
    "\n",
    "def get_data(url, filename, is_get_train = True):\n",
    "    if not os.path.exists(filename):\n",
    "        raw = request.urlopen(url).read().decode('utf-8')\n",
    "        with io.open(filename, 'w') as f:\n",
    "            f.write(raw)\n",
    "            \n",
    "    data = pd.read_csv(filename, header = 0, names = COLUMNS, encoding = 'utf-8')\n",
    "    features, labels = data, data.pop('Species')\n",
    "    \n",
    "    #Tạo Class Dataset trong tensorflow\n",
    "    dataset = tf.data.Dataset.from_tensor_slices((dict(features), labels))\n",
    "    if is_get_train: \n",
    "        dataset = dataset.shuffle(1000).repeat().batch(batch_size = BATCH_SIZE)\n",
    "        return dataset.make_one_shot_iterator().get_next()\n",
    "    else:\n",
    "        return dataset.batch(batch_size = BATCH_SIZE)\n",
    "\n",
    "get_data(IRIS_TRAIN_PATH, IRIS_TRAIN, is_get_train = True)\n",
    "get_data(IRIS_TEST_PATH, IRIS_TEST,  is_get_train = False)"
   ]
  },
  {
   "cell_type": "markdown",
   "metadata": {
    "deletable": true,
    "editable": true
   },
   "source": [
    "Đọc dữ liệu từ Dataset của tensorflow thông qua một session."
   ]
  },
  {
   "cell_type": "code",
   "execution_count": 2,
   "metadata": {
    "collapsed": false,
    "deletable": true,
    "editable": true
   },
   "outputs": [
    {
     "name": "stdout",
     "output_type": "stream",
     "text": [
      "({'SepWid': array([5.9, 6.9, 5.1, 6. , 5.5, 6.2, 5.5, 6.3, 5.6, 6.7, 7.1, 4.3, 5.6,\n",
      "       5.5, 6. , 5.1, 5.7, 4.8, 5.1, 5.7, 5.4, 5.6, 6.3, 6.3, 5.8, 6.1,\n",
      "       5.2, 6.7, 6.7, 6.4]), 'SepLen': array([3. , 3.1, 3.3, 3.4, 2.5, 2.9, 4.2, 2.8, 3. , 2.5, 3. , 3. , 2.8,\n",
      "       2.3, 2.2, 3.5, 2.6, 3.4, 3.4, 2.5, 3.4, 3. , 2.9, 2.5, 2.7, 3. ,\n",
      "       4.1, 3.1, 3.3, 2.9]), 'PenWid': array([4.2, 5.4, 1.7, 4.5, 4. , 4.3, 1.4, 5.1, 4.1, 5.8, 5.9, 1.1, 4.9,\n",
      "       4. , 4. , 1.4, 3.5, 1.9, 1.5, 5. , 1.7, 4.5, 5.6, 4.9, 3.9, 4.6,\n",
      "       1.5, 4.7, 5.7, 4.3]), 'PenLen': array([1.5, 2.1, 0.5, 1.6, 1.3, 1.3, 0.2, 1.5, 1.3, 1.8, 2.1, 0.1, 2. ,\n",
      "       1.3, 1. , 0.2, 1. , 0.2, 0.2, 2. , 0.2, 1.5, 1.8, 1.5, 1.2, 1.4,\n",
      "       0.1, 1.5, 2.5, 1.3])}, array([1, 2, 0, 1, 1, 1, 0, 2, 1, 2, 2, 0, 2, 1, 1, 0, 1, 0, 0, 2, 0, 1,\n",
      "       2, 1, 1, 1, 0, 1, 2, 1], dtype=int64))\n"
     ]
    }
   ],
   "source": [
    "with tf.Session() as sess:\n",
    "    test = get_data(IRIS_TEST_PATH, IRIS_TEST, is_get_train = False)\n",
    "    print(sess.run(test.make_one_shot_iterator().get_next()))"
   ]
  },
  {
   "cell_type": "markdown",
   "metadata": {
    "deletable": true,
    "editable": true
   },
   "source": [
    "# 3. Xây dựng mạng nơ ron.\n",
    "\n",
    "Ta sẽ xây dựng 1 hàm `my_model` có 3 chức năng gồm: `huấn luyện mô hình, đánh giá mô hình và dự báo mô hình`. Class được sử dụng để khởi tạo mô hình này là `tf.estimator.Estimator`."
   ]
  },
  {
   "cell_type": "code",
   "execution_count": 3,
   "metadata": {
    "collapsed": false,
    "deletable": true,
    "editable": true
   },
   "outputs": [],
   "source": [
    "def my_model(features, labels, mode, params):\n",
    "   \n",
    "    # 0. Xây dựng mạng nơ ron\n",
    "    # Khởi tạo input_layer. Hàm input_layer sẽ map dữ liệu đầu vào là features với các estimators thông qua params['features_columns']\n",
    "    nn = tf.feature_column.input_layer(features, params['feature_columns'])\n",
    "    # Xây dựng các hidden layer tiếp theo\n",
    "    for n_units in params['hidden_units']:\n",
    "        nn = tf.layers.dense(nn, n_units, activation = tf.nn.relu)\n",
    "    # Hàm logits dự báo xác xuất các classes (chính là output layer)\n",
    "    logits = tf.layers.dense(nn, params['n_classes'], activation = tf.nn.softmax)\n",
    "    if labels is not None:\n",
    "        # Hàm loss function\n",
    "        loss = tf.losses.sparse_softmax_cross_entropy(\n",
    "            labels = labels, \n",
    "            logits = logits)\n",
    "    \n",
    "    #---------------------------------------------------------------------------------\n",
    "    # 1. Huấn luyện mô hình\n",
    "    if mode == tf.estimator.ModeKeys.TRAIN:\n",
    "        # Hàm tối ưu hóa kiểm soát thuật toán gradient descent:\n",
    "        optimizer = tf.train.AdagradOptimizer(learning_rate = LEARNING_RATE)\n",
    "        # Hàm kích hoạt quá trình training mô hình:\n",
    "        train_op = optimizer.minimize(\n",
    "                   loss, \n",
    "                   global_step = tf.train.get_global_step())\n",
    "        # Estimator trả về \n",
    "        return tf.estimator.EstimatorSpec(\n",
    "            mode = mode, \n",
    "            loss = loss, \n",
    "            train_op = train_op)\n",
    "    \n",
    "    #---------------------------------------------------------------------------------\n",
    "    # 2. Đánh giá mô hình\n",
    "    elif mode == tf.estimator.ModeKeys.EVAL:\n",
    "        # Lớp được dự báo \n",
    "        prediction_classes = tf.argmax(logits, 1)\n",
    "        # Mức độ chính xác \n",
    "        accuracy = tf.metrics.accuracy(\n",
    "            labels = labels,\n",
    "            predictions = prediction_classes\n",
    "        )\n",
    "        # Estimator trả về\n",
    "        return tf.estimator.EstimatorSpec(\n",
    "            mode = tf.estimator.ModeKeys.EVAL,\n",
    "            loss = loss,\n",
    "            eval_metric_ops = {'accuracy': accuracy}\n",
    "        )\n",
    "    #----------------------------------------------------------------------------------\n",
    "    # 3. Dự báo mô hình\n",
    "    if mode == tf.estimator.ModeKeys.PREDICT:\n",
    "        #Tính class dự báo.\n",
    "        predicted_class = tf.argmax(logits, 1)\n",
    "        # Estimator trả về\n",
    "        return tf.estimator.EstimatorSpec(\n",
    "            mode = mode, \n",
    "            predictions = {\n",
    "                'class_id': predicted_class,\n",
    "                'logits': logits,\n",
    "                'probabilities': tf.nn.softmax(logits)\n",
    "            })"
   ]
  },
  {
   "cell_type": "markdown",
   "metadata": {
    "deletable": true,
    "editable": true
   },
   "source": [
    "Chúng ta tưởng tượng Dataset của tensorflow như một kho chứa nguyên liệu trong đó gồm 2 nguyên liệu chính là các features và labels. Các estimator trong mạng nơ ron như một đường ống dẫn nguyên liệu. Để nối đúng loại nguyên liệu với đúng đường ống chúng ta cần một danh sách các features để map giữa Dataset và các estimator trong mạng nơ ron trong input_layer. "
   ]
  },
  {
   "cell_type": "code",
   "execution_count": 4,
   "metadata": {
    "collapsed": false,
    "deletable": true,
    "editable": true
   },
   "outputs": [
    {
     "data": {
      "text/plain": [
       "[_NumericColumn(key='SepWid', shape=(1,), default_value=None, dtype=tf.float32, normalizer_fn=None),\n",
       " _NumericColumn(key='SepLen', shape=(1,), default_value=None, dtype=tf.float32, normalizer_fn=None),\n",
       " _NumericColumn(key='PenWid', shape=(1,), default_value=None, dtype=tf.float32, normalizer_fn=None),\n",
       " _NumericColumn(key='PenLen', shape=(1,), default_value=None, dtype=tf.float32, normalizer_fn=None)]"
      ]
     },
     "execution_count": 4,
     "metadata": {},
     "output_type": "execute_result"
    }
   ],
   "source": [
    "my_features = []\n",
    "for column in COLUMNS[:-1]:\n",
    "    my_features.append(tf.feature_column.numeric_column(column))\n",
    "my_features"
   ]
  },
  {
   "cell_type": "markdown",
   "metadata": {
    "deletable": true,
    "editable": true
   },
   "source": [
    "Hàm tf.feature_column.numeric_column() sẽ tạo ra các phần tử định dạng numeric trong list danh sách features. Xây dựng object classifier thuộc class Estimator sử dụng để huấn luyện, đánh giá và dự báo."
   ]
  },
  {
   "cell_type": "code",
   "execution_count": 5,
   "metadata": {
    "collapsed": false,
    "deletable": true,
    "editable": true
   },
   "outputs": [
    {
     "name": "stdout",
     "output_type": "stream",
     "text": [
      "INFO:tensorflow:Using default config.\n",
      "WARNING:tensorflow:Using temporary folder as model directory: C:\\Users\\LAPTOP~1\\AppData\\Local\\Temp\\tmp5jncfld7\n",
      "INFO:tensorflow:Using config: {'_model_dir': 'C:\\\\Users\\\\LAPTOP~1\\\\AppData\\\\Local\\\\Temp\\\\tmp5jncfld7', '_tf_random_seed': None, '_save_summary_steps': 100, '_save_checkpoints_steps': None, '_save_checkpoints_secs': 600, '_session_config': None, '_keep_checkpoint_max': 5, '_keep_checkpoint_every_n_hours': 10000, '_log_step_count_steps': 100, '_train_distribute': None, '_device_fn': None, '_service': None, '_cluster_spec': <tensorflow.python.training.server_lib.ClusterSpec object at 0x0000018ACF42B7F0>, '_task_type': 'worker', '_task_id': 0, '_global_id_in_cluster': 0, '_master': '', '_evaluation_master': '', '_is_chief': True, '_num_ps_replicas': 0, '_num_worker_replicas': 1}\n"
     ]
    }
   ],
   "source": [
    "classifier = tf.estimator.Estimator(\n",
    "    model_fn = my_model,\n",
    "    params = {\n",
    "        'feature_columns': my_features, # List tên các feature sử dụng để map dữ liệu từ Dataset với các estimator\n",
    "        'hidden_units':[10, 20, 10], # Số đơn vị mỗi layer\n",
    "        'n_classes': 3 # Số lượng nhóm cần phân loại\n",
    "    }\n",
    ")"
   ]
  },
  {
   "cell_type": "markdown",
   "metadata": {
    "deletable": true,
    "editable": true
   },
   "source": [
    "Ta nhận thấy classifier sử dụng model function là my_model để xây dựng mạng nơ ron, huấn luyện, đánh giá và dự báo mô hình. Tham số params của hàm Estimator sẽ được truyền vào trong hàm my_model để khai thác các thông số bao gồm: \n",
    "* feature_columns: Danh sách các biến dự báo được sử dụng để map dữ liệu từ Dataset với features đầu vào của mô hình.\n",
    "* hidden_units: Số lượng units mỗi tầng ẩn. Mạng nơ ron của chúng ta sẽ được thiết kế gồm 3 tầng ẩn với số units lần lượt là 10, 20, 10.\n",
    "* n_classes: Số nhóm phân loại. \n",
    "Tiếp theo chúng ta sẽ huấn luyện mô hình\n",
    "\n",
    "# 4. Huấn luyện mô hình.\n",
    "\n",
    "Hàm huấn luyện sẽ cần truyền vào 2 tham số chính đó là hàm khởi tạo Dataset để truyền dữ liệu và số bước học tập."
   ]
  },
  {
   "cell_type": "code",
   "execution_count": 6,
   "metadata": {
    "collapsed": false,
    "deletable": true,
    "editable": true
   },
   "outputs": [
    {
     "name": "stdout",
     "output_type": "stream",
     "text": [
      "INFO:tensorflow:Calling model_fn.\n",
      "INFO:tensorflow:Done calling model_fn.\n",
      "INFO:tensorflow:Create CheckpointSaverHook.\n",
      "INFO:tensorflow:Graph was finalized.\n",
      "INFO:tensorflow:Running local_init_op.\n",
      "INFO:tensorflow:Done running local_init_op.\n",
      "INFO:tensorflow:Saving checkpoints for 0 into C:\\Users\\LAPTOP~1\\AppData\\Local\\Temp\\tmp5jncfld7\\model.ckpt.\n",
      "INFO:tensorflow:loss = 1.1937896, step = 1\n",
      "INFO:tensorflow:global_step/sec: 188.223\n",
      "INFO:tensorflow:loss = 0.656974, step = 101 (0.535 sec)\n",
      "INFO:tensorflow:global_step/sec: 275.244\n",
      "INFO:tensorflow:loss = 0.5916569, step = 201 (0.365 sec)\n",
      "INFO:tensorflow:global_step/sec: 267.529\n",
      "INFO:tensorflow:loss = 0.5698997, step = 301 (0.372 sec)\n",
      "INFO:tensorflow:global_step/sec: 290.742\n",
      "INFO:tensorflow:loss = 0.57975054, step = 401 (0.344 sec)\n",
      "INFO:tensorflow:global_step/sec: 297.355\n",
      "INFO:tensorflow:loss = 0.60341954, step = 501 (0.336 sec)\n",
      "INFO:tensorflow:global_step/sec: 264.559\n",
      "INFO:tensorflow:loss = 0.57738477, step = 601 (0.378 sec)\n",
      "INFO:tensorflow:global_step/sec: 287.154\n",
      "INFO:tensorflow:loss = 0.59746295, step = 701 (0.350 sec)\n",
      "INFO:tensorflow:global_step/sec: 284.427\n",
      "INFO:tensorflow:loss = 0.56582814, step = 801 (0.350 sec)\n",
      "INFO:tensorflow:global_step/sec: 205.305\n",
      "INFO:tensorflow:loss = 0.575296, step = 901 (0.487 sec)\n",
      "INFO:tensorflow:Saving checkpoints for 1000 into C:\\Users\\LAPTOP~1\\AppData\\Local\\Temp\\tmp5jncfld7\\model.ckpt.\n",
      "INFO:tensorflow:Loss for final step: 0.58977175.\n"
     ]
    },
    {
     "data": {
      "text/plain": [
       "<tensorflow.python.estimator.estimator.Estimator at 0x18acf42bb00>"
      ]
     },
     "execution_count": 6,
     "metadata": {},
     "output_type": "execute_result"
    }
   ],
   "source": [
    "classifier.train(\n",
    "    input_fn = lambda:get_data(IRIS_TRAIN_PATH, IRIS_TRAIN),\n",
    "    steps = N_STEPS\n",
    ")"
   ]
  },
  {
   "cell_type": "markdown",
   "metadata": {
    "deletable": true,
    "editable": true
   },
   "source": [
    "# 5. Đánh giá mô hình.\n",
    "Ta sẽ đánh giá mô hình lần lượt trên tập train và tập test. Hàm đánh giá mô hình sẽ trả về mức độ dự báo chính xác của mạng nơ ron trên từng tập dữ liệu. Tham số đầu vào input_fn là một hàm trả về một Dataset hoặc Iterator Dataset của features và labels."
   ]
  },
  {
   "cell_type": "code",
   "execution_count": 7,
   "metadata": {
    "collapsed": false,
    "deletable": true,
    "editable": true
   },
   "outputs": [
    {
     "name": "stdout",
     "output_type": "stream",
     "text": [
      "INFO:tensorflow:Calling model_fn.\n",
      "INFO:tensorflow:Done calling model_fn.\n",
      "INFO:tensorflow:Starting evaluation at 2018-10-25-13:32:47\n",
      "INFO:tensorflow:Graph was finalized.\n",
      "INFO:tensorflow:Restoring parameters from C:\\Users\\LAPTOP~1\\AppData\\Local\\Temp\\tmp5jncfld7\\model.ckpt-1000\n",
      "INFO:tensorflow:Running local_init_op.\n",
      "INFO:tensorflow:Done running local_init_op.\n",
      "INFO:tensorflow:Finished evaluation at 2018-10-25-13:32:48\n",
      "INFO:tensorflow:Saving dict for global step 1000: accuracy = 0.96666664, global_step = 1000, loss = 0.58936626\n",
      "INFO:tensorflow:Saving 'checkpoint_path' summary for global step 1000: C:\\Users\\LAPTOP~1\\AppData\\Local\\Temp\\tmp5jncfld7\\model.ckpt-1000\n"
     ]
    },
    {
     "data": {
      "text/plain": [
       "{'accuracy': 0.96666664, 'global_step': 1000, 'loss': 0.58936626}"
      ]
     },
     "execution_count": 7,
     "metadata": {},
     "output_type": "execute_result"
    }
   ],
   "source": [
    "classifier.evaluate(\n",
    "    input_fn = lambda:get_data(IRIS_TEST_PATH, IRIS_TEST, is_get_train = False)\n",
    ")"
   ]
  },
  {
   "cell_type": "markdown",
   "metadata": {
    "deletable": true,
    "editable": true
   },
   "source": [
    "Đánh giá mô hình trên tập train"
   ]
  },
  {
   "cell_type": "code",
   "execution_count": 8,
   "metadata": {
    "collapsed": false,
    "deletable": true,
    "editable": true
   },
   "outputs": [
    {
     "name": "stdout",
     "output_type": "stream",
     "text": [
      "INFO:tensorflow:Calling model_fn.\n",
      "INFO:tensorflow:Done calling model_fn.\n",
      "INFO:tensorflow:Starting evaluation at 2018-10-25-13:32:49\n",
      "INFO:tensorflow:Graph was finalized.\n",
      "INFO:tensorflow:Restoring parameters from C:\\Users\\LAPTOP~1\\AppData\\Local\\Temp\\tmp5jncfld7\\model.ckpt-1000\n",
      "INFO:tensorflow:Running local_init_op.\n",
      "INFO:tensorflow:Done running local_init_op.\n",
      "INFO:tensorflow:Finished evaluation at 2018-10-25-13:32:49\n",
      "INFO:tensorflow:Saving dict for global step 1000: accuracy = 0.98333335, global_step = 1000, loss = 0.56490624\n",
      "INFO:tensorflow:Saving 'checkpoint_path' summary for global step 1000: C:\\Users\\LAPTOP~1\\AppData\\Local\\Temp\\tmp5jncfld7\\model.ckpt-1000\n"
     ]
    },
    {
     "data": {
      "text/plain": [
       "{'accuracy': 0.98333335, 'global_step': 1000, 'loss': 0.56490624}"
      ]
     },
     "execution_count": 8,
     "metadata": {},
     "output_type": "execute_result"
    }
   ],
   "source": [
    "classifier.evaluate(\n",
    "    input_fn = lambda:get_data(IRIS_TRAIN_PATH, IRIS_TRAIN, is_get_train = False)\n",
    ")"
   ]
  },
  {
   "cell_type": "markdown",
   "metadata": {},
   "source": [
    "Với một mạng nơ ron chỉ 3 tầng ẩn kết quả chính xác đã > 95%. Đây là một kết quả khá tốt mà những mô hình học máy khác như `Hồi qui Logistic, kNN, SVM, Random forest, Decesion Tree,...` khó đạt được. Nếu bạn đọc không tin điều này có thể search thông tin kết quả các thuật toán học máy áp dụng trên bộ dữ liệu iris để kiểm chứng."
   ]
  },
  {
   "cell_type": "markdown",
   "metadata": {
    "deletable": true,
    "editable": true
   },
   "source": [
    "# 6. Dự báo quan sát mới.\n",
    "Giả sử bên dưới chúng ta có 3 quan sát về kích thước dài, rộng của cánh hoa và đài hoa. Chúng ta sẽ sử dụng hàm predict của object classifier để dự báo nhãn và xác xuất của 3 quan sát mới này. Lưu ý hàm predict, train, evaluate đều có chung một đặc điểm đó là có một tham số là hàm số trả về Dataset của tensorflow hoặc Iterator Dataset."
   ]
  },
  {
   "cell_type": "code",
   "execution_count": 9,
   "metadata": {
    "collapsed": false,
    "deletable": true,
    "editable": true
   },
   "outputs": [
    {
     "name": "stdout",
     "output_type": "stream",
     "text": [
      "INFO:tensorflow:Calling model_fn.\n",
      "INFO:tensorflow:Done calling model_fn.\n",
      "INFO:tensorflow:Graph was finalized.\n",
      "INFO:tensorflow:Restoring parameters from C:\\Users\\LAPTOP~1\\AppData\\Local\\Temp\\tmp5jncfld7\\model.ckpt-1000\n",
      "INFO:tensorflow:Running local_init_op.\n",
      "INFO:tensorflow:Done running local_init_op.\n",
      "\n",
      "Prediction is \"1\" (49.7%), expected \"Versicolor\"\n",
      "\n",
      "Prediction is \"1\" (57.6%), expected \"Versicolor\"\n",
      "\n",
      "Prediction is \"2\" (57.6%), expected \"Virginica\"\n"
     ]
    }
   ],
   "source": [
    "expected = ['Setosa', 'Versicolor', 'Virginica']\n",
    "predict_x = {\n",
    "    'SepLen': [3.1, 5.9, 6.9],\n",
    "    'SepWid': [2.3, 3.0, 3.1],\n",
    "    'PenLen': [1.7, 2.2, 5.4],\n",
    "    'PenWid': [0.5, 1.5, 2.1],\n",
    "}\n",
    "\n",
    "def input_fn(features, labels, batch_size):\n",
    "    \"\"\"An input function for evaluation or prediction\"\"\"\n",
    "    features=dict(features)\n",
    "    if labels is None:\n",
    "        # No labels, use only features.\n",
    "        inputs = features\n",
    "    else:\n",
    "        inputs = (features, labels)\n",
    "\n",
    "    # Convert the inputs to a Dataset.\n",
    "    dataset = tf.data.Dataset.from_tensor_slices(inputs)\n",
    "\n",
    "    # Batch the examples\n",
    "    assert batch_size is not None, \"batch_size must not be None\"\n",
    "    dataset = dataset.batch(batch_size)\n",
    "\n",
    "    # Return the dataset.\n",
    "    return dataset\n",
    "\n",
    "def pred(input_features):\n",
    "    predictions = classifier.predict(\n",
    "        input_fn=lambda:input_fn(input_features, labels = None, batch_size = BATCH_SIZE))\n",
    "    template = ('\\nPrediction is \"{}\" ({:.1f}%), expected \"{}\"')\n",
    "    for pred in list(predictions):\n",
    "        class_id = pred['class_id']\n",
    "        exp = expected[class_id]\n",
    "        prob = pred['probabilities'][class_id]*100\n",
    "        print(template.format(class_id, prob, exp))\n",
    "\n",
    "pred(predict_x)"
   ]
  },
  {
   "cell_type": "markdown",
   "metadata": {},
   "source": [
    "# 7. Tài liệu tham khảo.\n",
    "\n",
    "1. [Estimator - tensorflow](https://www.tensorflow.org/api_docs/python/tf/estimator)\n",
    "2. [Dataset - tensorflow](https://www.tensorflow.org/guide/datasets)\n",
    "3. [Layer - tensorflow](https://www.tensorflow.org/api_docs/python/tf/layers)\n",
    "4. [Hướng dẫn tensorflow - Pham Dinh Khanh](https://www.kaggle.com/phamdinhkhanh/tensorflow-turtorial?scriptVersionId=6702388)\n",
    "5. [Quá trình lan truyền ngược và lan truyền thuận - Blog Machine learning cơ bản](https://machinelearningcoban.com/2017/02/24/mlp/)\n",
    "6. [Các thuật toán Gradient Descent - tensorflow](https://www.tensorflow.org/api_docs/python/tf/train/Optimizer)\n",
    "7. [Loạt bài về tensorflow - Nguyễn Văn Hiếu](https://nguyenvanhieu.vn/xay-dung-mo-hinh-neural-network/)"
   ]
  }
 ],
 "metadata": {
  "kernelspec": {
   "display_name": "Python 3",
   "language": "python",
   "name": "python3"
  },
  "language_info": {
   "codemirror_mode": {
    "name": "ipython",
    "version": 3
   },
   "file_extension": ".py",
   "mimetype": "text/x-python",
   "name": "python",
   "nbconvert_exporter": "python",
   "pygments_lexer": "ipython3",
   "version": "3.6.0"
  }
 },
 "nbformat": 4,
 "nbformat_minor": 2
}
