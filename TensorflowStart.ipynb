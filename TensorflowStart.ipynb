{
 "cells": [
  {
   "cell_type": "code",
   "execution_count": 1,
   "metadata": {
    "collapsed": true,
    "deletable": true,
    "editable": true
   },
   "outputs": [],
   "source": [
    "import tensorflow as tf"
   ]
  },
  {
   "cell_type": "code",
   "execution_count": 4,
   "metadata": {
    "collapsed": false,
    "deletable": true,
    "editable": true
   },
   "outputs": [
    {
     "name": "stdout",
     "output_type": "stream",
     "text": [
      "Tensor(\"Const_4:0\", shape=(), dtype=float32) Tensor(\"Const_5:0\", shape=(), dtype=float32)\n",
      "[3.0, 4.0]\n",
      "node 3: Tensor(\"Add:0\", shape=(), dtype=float32)\n",
      "[7.0]\n"
     ]
    }
   ],
   "source": [
    "#Include two different sections:\n",
    "#1. Build computational graph\n",
    "#2. Run computational graph\n",
    "node1 = tf.constant(3.0, dtype = tf.float32)\n",
    "node2 = tf.constant(4.0)\n",
    "\n",
    "print(node1, node2)\n",
    "\n",
    "#Evaluate node within a session to gain output\n",
    "sess = tf.Session()\n",
    "print(sess.run([node1, node2]))\n",
    "\n",
    "#Create new node throught operation\n",
    "node3 = tf.add(node1, node2)\n",
    "print('node 3:', node3)\n",
    "print(sess.run([node3]))"
   ]
  },
  {
   "cell_type": "code",
   "execution_count": 8,
   "metadata": {
    "collapsed": false,
    "deletable": true,
    "editable": true
   },
   "outputs": [
    {
     "name": "stdout",
     "output_type": "stream",
     "text": [
      "7.0\n",
      "[5. 7.]\n",
      "22.5\n"
     ]
    }
   ],
   "source": [
    "#contrast with constant which only take constant values, placeholder promise to get any values provide to it later\n",
    "a = tf.placeholder(tf.float32)\n",
    "b = tf.placeholder(tf.float32)\n",
    "\n",
    "adder_node = a + b #short cut for operation tf.add(a,b)\n",
    "\n",
    "#using session.run(node_operation, feed_dict), feed_dict will feed node operation by it parameter palaceholder. \n",
    "\n",
    "print(sess.run(adder_node, {a:3, b:4}))\n",
    "print(sess.run(adder_node, {a:[1, 2], b:[4, 5]}))\n",
    "\n",
    "add_and_triple = adder_node * 3\n",
    "print(sess.run(add_and_triple, {a:3, b:4.5}))"
   ]
  },
  {
   "cell_type": "code",
   "execution_count": 9,
   "metadata": {
    "collapsed": true,
    "deletable": true,
    "editable": true
   },
   "outputs": [],
   "source": [
    "#Variable allow us to train parameter in computational graph\n",
    "W = tf.Variable([.3], dtype = tf.float32)\n",
    "b = tf.Variable([-.3], dtype = tf.float32)\n",
    "x = tf.placeholder(tf.float32)\n",
    "linear_model = W * x + b\n",
    "\n",
    "#to initalized value to Variable we have to call tf.global_variables_initializer()\n",
    "init = tf.global_variables_initializer()\n",
    "sess.run(init)"
   ]
  },
  {
   "cell_type": "code",
   "execution_count": 13,
   "metadata": {
    "collapsed": false,
    "deletable": true,
    "editable": true
   },
   "outputs": [
    {
     "name": "stdout",
     "output_type": "stream",
     "text": [
      "[0.         0.3        0.6        0.90000004]\n"
     ]
    }
   ],
   "source": [
    "#after we init parameter throw init, we could evaluate model by set value to placeholder\n",
    "print(sess.run(linear_model, {x: [1,2,3,4]}))"
   ]
  },
  {
   "cell_type": "code",
   "execution_count": 15,
   "metadata": {
    "collapsed": false,
    "deletable": true,
    "editable": true
   },
   "outputs": [
    {
     "data": {
      "text/plain": [
       "43.26"
      ]
     },
     "execution_count": 15,
     "metadata": {},
     "output_type": "execute_result"
    }
   ],
   "source": [
    "#create loss function and evaluate loss function\n",
    "y = tf.placeholder(tf.float32)\n",
    "squared_deltas = tf.square(linear_model - y)\n",
    "loss = tf.reduce_sum(squared_deltas)\n",
    "sess.run(loss, {x:[1,2,3,4], y:[-1,-2,-3,-4]})"
   ]
  },
  {
   "cell_type": "code",
   "execution_count": 18,
   "metadata": {
    "collapsed": false,
    "deletable": true,
    "editable": true
   },
   "outputs": [
    {
     "data": {
      "text/plain": [
       "0.0"
      ]
     },
     "execution_count": 18,
     "metadata": {},
     "output_type": "execute_result"
    }
   ],
   "source": [
    "#reassign to Variable W and b to get new return loss function values\n",
    "fix_W = tf.assign(W, [-1])\n",
    "fix_b = tf.assign(b, [0])\n",
    "sess.run([fix_W, fix_b])\n",
    "sess.run(loss, {x:[1,2,3,4], y:[-1,-2,-3,-4]})"
   ]
  },
  {
   "cell_type": "code",
   "execution_count": 19,
   "metadata": {
    "collapsed": false,
    "deletable": true,
    "editable": true
   },
   "outputs": [
    {
     "name": "stdout",
     "output_type": "stream",
     "text": [
      "[array([-0.9999987], dtype=float32), array([-3.871269e-06], dtype=float32)]\n"
     ]
    }
   ],
   "source": [
    "#train API by optimizer\n",
    "optimizer = tf.train.GradientDescentOptimizer(0.01)\n",
    "train = optimizer.minimize(loss)\n",
    "\n",
    "#reset values to incorrect defaults\n",
    "sess.run(init)\n",
    "for i in range(1000):\n",
    "    sess.run(train, {x:[1,2,3,4], y:[-1,-2,-3,-4]})\n",
    "print(sess.run([W, b]))    "
   ]
  },
  {
   "cell_type": "code",
   "execution_count": 21,
   "metadata": {
    "collapsed": false,
    "deletable": true,
    "editable": true
   },
   "outputs": [
    {
     "name": "stdout",
     "output_type": "stream",
     "text": [
      "INFO:tensorflow:Using default config.\n",
      "WARNING:tensorflow:Using temporary folder as model directory: C:\\Users\\LAPTOP~1\\AppData\\Local\\Temp\\tmps3gmpkod\n",
      "INFO:tensorflow:Using config: {'_task_type': None, '_task_id': 0, '_cluster_spec': <tensorflow.python.training.server_lib.ClusterSpec object at 0x000001E5E1CF4EB8>, '_master': '', '_num_ps_replicas': 0, '_num_worker_replicas': 0, '_environment': 'local', '_is_chief': True, '_evaluation_master': '', '_tf_config': gpu_options {\n",
      "  per_process_gpu_memory_fraction: 1.0\n",
      "}\n",
      ", '_tf_random_seed': None, '_save_summary_steps': 100, '_save_checkpoints_secs': 600, '_log_step_count_steps': 100, '_session_config': None, '_save_checkpoints_steps': None, '_keep_checkpoint_max': 5, '_keep_checkpoint_every_n_hours': 10000, '_model_dir': 'C:\\\\Users\\\\LAPTOP~1\\\\AppData\\\\Local\\\\Temp\\\\tmps3gmpkod'}\n",
      "WARNING:tensorflow:From c:\\users\\laptoptcc\\appdata\\local\\programs\\python\\python36\\lib\\site-packages\\tensorflow\\contrib\\learn\\python\\learn\\estimators\\linear.py:173: get_global_step (from tensorflow.contrib.framework.python.ops.variables) is deprecated and will be removed in a future version.\n",
      "Instructions for updating:\n",
      "Please switch to tf.train.get_global_step\n",
      "INFO:tensorflow:Create CheckpointSaverHook.\n",
      "INFO:tensorflow:Saving checkpoints for 1 into C:\\Users\\LAPTOP~1\\AppData\\Local\\Temp\\tmps3gmpkod\\model.ckpt.\n",
      "INFO:tensorflow:loss = 0.5, step = 1\n",
      "INFO:tensorflow:global_step/sec: 370.722\n",
      "INFO:tensorflow:loss = 0.008897515, step = 101 (0.290 sec)\n",
      "INFO:tensorflow:global_step/sec: 415.12\n",
      "INFO:tensorflow:loss = 0.0016142284, step = 201 (0.223 sec)\n",
      "INFO:tensorflow:global_step/sec: 447.14\n",
      "INFO:tensorflow:loss = 2.233219e-05, step = 301 (0.225 sec)\n",
      "INFO:tensorflow:global_step/sec: 322.878\n",
      "INFO:tensorflow:loss = 4.8591073e-06, step = 401 (0.313 sec)\n",
      "INFO:tensorflow:global_step/sec: 376.286\n",
      "INFO:tensorflow:loss = 8.652228e-08, step = 501 (0.263 sec)\n",
      "INFO:tensorflow:global_step/sec: 394.068\n",
      "INFO:tensorflow:loss = 2.4622524e-08, step = 601 (0.253 sec)\n",
      "INFO:tensorflow:global_step/sec: 418.797\n",
      "INFO:tensorflow:loss = 3.6942538e-10, step = 701 (0.240 sec)\n",
      "INFO:tensorflow:global_step/sec: 440.937\n",
      "INFO:tensorflow:loss = 1.0231904e-10, step = 801 (0.228 sec)\n",
      "INFO:tensorflow:global_step/sec: 553.019\n",
      "INFO:tensorflow:loss = 1.00630615e-11, step = 901 (0.180 sec)\n",
      "INFO:tensorflow:Saving checkpoints for 1000 into C:\\Users\\LAPTOP~1\\AppData\\Local\\Temp\\tmps3gmpkod\\model.ckpt.\n",
      "INFO:tensorflow:Loss for final step: 1.314504e-13.\n",
      "INFO:tensorflow:Starting evaluation at 2018-07-01-07:16:56\n",
      "INFO:tensorflow:Restoring parameters from C:\\Users\\LAPTOP~1\\AppData\\Local\\Temp\\tmps3gmpkod\\model.ckpt-1000\n",
      "INFO:tensorflow:Finished evaluation at 2018-07-01-07:16:58\n",
      "INFO:tensorflow:Saving dict for global step 1000: global_step = 1000, loss = 3.7392311e-13\n",
      "INFO:tensorflow:Starting evaluation at 2018-07-01-07:16:59\n",
      "INFO:tensorflow:Restoring parameters from C:\\Users\\LAPTOP~1\\AppData\\Local\\Temp\\tmps3gmpkod\\model.ckpt-1000\n",
      "INFO:tensorflow:Finished evaluation at 2018-07-01-07:17:01\n",
      "INFO:tensorflow:Saving dict for global step 1000: global_step = 1000, loss = 0.0025250257\n",
      "train loss: {'loss': 3.7392311e-13, 'global_step': 1000}\n",
      "eval loss: {'loss': 0.0025250257, 'global_step': 1000}\n"
     ]
    }
   ],
   "source": [
    "#tf.contrib.learn is a high-level Tensorflow lib that simplified mechanics of machine learning:\n",
    "#1. training loop\n",
    "#2. eval loop\n",
    "#3. manage datasets\n",
    "#4. manage feeding\n",
    "\n",
    "import tensorflow as tf\n",
    "import numpy as np\n",
    "\n",
    "#declare list of features\n",
    "features = [tf.contrib.layers.real_valued_column('x', dimension = 1)]\n",
    "\n",
    "#define type of training like linear, logistic, neural network,....\n",
    "estimator = tf.contrib.learn.LinearRegressor(feature_columns=features)\n",
    "\n",
    "# TensorFlow provides many helper methods to read and set up data sets.\n",
    "# Here we use two data sets: one for training and one for evaluation\n",
    "# We have to tell the function how many batches\n",
    "# of data (num_epochs) we want and how big each batch should be.\n",
    "\n",
    "x_train = np.array([1., 2., 3., 4.])\n",
    "y_train = np.array([0., -1., -2., -3.])\n",
    "x_eval = np.array([2., 5., 8., 1.])\n",
    "y_eval = np.array([-1.01, -4.1, -7, 0.])\n",
    "\n",
    "input_fn = tf.contrib.learn.io.numpy_input_fn(\n",
    "    {\"x\":x_train}, y_train, \n",
    "    batch_size = 4,\n",
    "    num_epochs = 1000\n",
    ")\n",
    "\n",
    "\n",
    "eval_input_fn = tf.contrib.learn.io.numpy_input_fn(\n",
    "    {\"x\":x_eval}, y_eval,\n",
    "    batch_size = 4,\n",
    "    num_epochs = 1000\n",
    ")\n",
    "\n",
    "# We invoke 1000 training steps by invoking method and passing to the training data set\n",
    "estimator.fit(input_fn = input_fn, steps = 1000)\n",
    "\n",
    "#evaluate model\n",
    "train_loss = estimator.evaluate(input_fn = input_fn)\n",
    "eval_loss = estimator.evaluate(input_fn = eval_input_fn)\n",
    "\n",
    "print(\"train loss: %r\"% train_loss)\n",
    "print(\"eval loss: %r\"% eval_loss)"
   ]
  },
  {
   "cell_type": "markdown",
   "metadata": {
    "deletable": true,
    "editable": true
   },
   "source": [
    "# Custom model which is not builed in tf.contrib.learn"
   ]
  },
  {
   "cell_type": "code",
   "execution_count": 22,
   "metadata": {
    "collapsed": false,
    "deletable": true,
    "editable": true
   },
   "outputs": [
    {
     "name": "stdout",
     "output_type": "stream",
     "text": [
      "INFO:tensorflow:Using default config.\n",
      "WARNING:tensorflow:Using temporary folder as model directory: C:\\Users\\LAPTOP~1\\AppData\\Local\\Temp\\tmp3kz8h10q\n",
      "INFO:tensorflow:Using config: {'_task_type': None, '_task_id': 0, '_cluster_spec': <tensorflow.python.training.server_lib.ClusterSpec object at 0x000001E5E01E6E10>, '_master': '', '_num_ps_replicas': 0, '_num_worker_replicas': 0, '_environment': 'local', '_is_chief': True, '_evaluation_master': '', '_tf_config': gpu_options {\n",
      "  per_process_gpu_memory_fraction: 1.0\n",
      "}\n",
      ", '_tf_random_seed': None, '_save_summary_steps': 100, '_save_checkpoints_secs': 600, '_log_step_count_steps': 100, '_session_config': None, '_save_checkpoints_steps': None, '_keep_checkpoint_max': 5, '_keep_checkpoint_every_n_hours': 10000, '_model_dir': 'C:\\\\Users\\\\LAPTOP~1\\\\AppData\\\\Local\\\\Temp\\\\tmp3kz8h10q'}\n",
      "INFO:tensorflow:Create CheckpointSaverHook.\n",
      "INFO:tensorflow:Saving checkpoints for 1 into C:\\Users\\LAPTOP~1\\AppData\\Local\\Temp\\tmp3kz8h10q\\model.ckpt.\n",
      "INFO:tensorflow:loss = 90.37633447347056, step = 1\n",
      "INFO:tensorflow:global_step/sec: 379.117\n",
      "INFO:tensorflow:loss = 0.0012968990948675559, step = 101 (0.267 sec)\n",
      "INFO:tensorflow:global_step/sec: 450.214\n",
      "INFO:tensorflow:loss = 0.00010537797050759187, step = 201 (0.222 sec)\n",
      "INFO:tensorflow:global_step/sec: 452.902\n",
      "INFO:tensorflow:loss = 1.402360867296318e-05, step = 301 (0.221 sec)\n",
      "INFO:tensorflow:global_step/sec: 448.841\n",
      "INFO:tensorflow:loss = 7.993821231215588e-07, step = 401 (0.223 sec)\n",
      "INFO:tensorflow:global_step/sec: 442.891\n",
      "INFO:tensorflow:loss = 2.2442443630721305e-08, step = 501 (0.226 sec)\n",
      "INFO:tensorflow:global_step/sec: 400.374\n",
      "INFO:tensorflow:loss = 8.178203278827848e-09, step = 601 (0.251 sec)\n",
      "INFO:tensorflow:global_step/sec: 400.363\n",
      "INFO:tensorflow:loss = 3.8248969221792315e-10, step = 701 (0.249 sec)\n",
      "INFO:tensorflow:global_step/sec: 465.529\n",
      "INFO:tensorflow:loss = 4.257818061652028e-11, step = 801 (0.216 sec)\n",
      "INFO:tensorflow:global_step/sec: 518.638\n",
      "INFO:tensorflow:loss = 1.6061385703067075e-12, step = 901 (0.192 sec)\n",
      "INFO:tensorflow:Saving checkpoints for 1000 into C:\\Users\\LAPTOP~1\\AppData\\Local\\Temp\\tmp3kz8h10q\\model.ckpt.\n",
      "INFO:tensorflow:Loss for final step: 3.1971516730905643e-13.\n",
      "INFO:tensorflow:Starting evaluation at 2018-07-01-07:22:22\n",
      "INFO:tensorflow:Restoring parameters from C:\\Users\\LAPTOP~1\\AppData\\Local\\Temp\\tmp3kz8h10q\\model.ckpt-1000\n",
      "INFO:tensorflow:Finished evaluation at 2018-07-01-07:22:24\n",
      "INFO:tensorflow:Saving dict for global step 1000: global_step = 1000, loss = 3.108708e-13\n",
      "INFO:tensorflow:Starting evaluation at 2018-07-01-07:22:24\n",
      "INFO:tensorflow:Restoring parameters from C:\\Users\\LAPTOP~1\\AppData\\Local\\Temp\\tmp3kz8h10q\\model.ckpt-1000\n",
      "INFO:tensorflow:Finished evaluation at 2018-07-01-07:22:26\n",
      "INFO:tensorflow:Saving dict for global step 1000: global_step = 1000, loss = 0.010100115\n",
      "train loss: {'loss': 3.108708e-13, 'global_step': 1000}\n",
      "eval loss: {'loss': 0.010100115, 'global_step': 1000}\n"
     ]
    }
   ],
   "source": [
    "import numpy as np\n",
    "import tensorflow as tf\n",
    "# Declare list of features, we only have one real-valued feature\n",
    "def model(features, labels, mode):\n",
    "  # Build a linear model and predict values\n",
    "  W = tf.get_variable(\"W\", [1], dtype=tf.float64)\n",
    "  b = tf.get_variable(\"b\", [1], dtype=tf.float64)\n",
    "  y = W*features['x'] + b\n",
    "  # Loss sub-graph\n",
    "  loss = tf.reduce_sum(tf.square(y - labels))\n",
    "  # Training sub-graph\n",
    "  global_step = tf.train.get_global_step()\n",
    "  optimizer = tf.train.GradientDescentOptimizer(0.01)\n",
    "  train = tf.group(optimizer.minimize(loss),\n",
    "                   tf.assign_add(global_step, 1))\n",
    "  # ModelFnOps connects subgraphs we built to the\n",
    "  # appropriate functionality.\n",
    "  return tf.contrib.learn.ModelFnOps(\n",
    "      mode=mode, predictions=y,\n",
    "      loss=loss,\n",
    "      train_op=train)\n",
    "\n",
    "estimator = tf.contrib.learn.Estimator(model_fn=model)\n",
    "# define our data sets\n",
    "x_train = np.array([1., 2., 3., 4.])\n",
    "y_train = np.array([0., -1., -2., -3.])\n",
    "x_eval = np.array([2., 5., 8., 1.])\n",
    "y_eval = np.array([-1.01, -4.1, -7, 0.])\n",
    "input_fn = tf.contrib.learn.io.numpy_input_fn({\"x\": x_train}, y_train, 4, num_epochs=1000)\n",
    "\n",
    "# train\n",
    "estimator.fit(input_fn=input_fn, steps=1000)\n",
    "# Here we evaluate how well our model did. \n",
    "train_loss = estimator.evaluate(input_fn=input_fn)\n",
    "eval_loss = estimator.evaluate(input_fn=eval_input_fn)\n",
    "print(\"train loss: %r\"% train_loss)\n",
    "print(\"eval loss: %r\"% eval_loss)"
   ]
  },
  {
   "cell_type": "code",
   "execution_count": 6,
   "metadata": {
    "collapsed": false,
    "deletable": true,
    "editable": true
   },
   "outputs": [
    {
     "data": {
      "text/plain": [
       "array([[14]])"
      ]
     },
     "execution_count": 6,
     "metadata": {},
     "output_type": "execute_result"
    }
   ],
   "source": [
    "import numpy as np\n",
    "X = np.array([[1],\n",
    "              [2],\n",
    "              [3]])\n",
    "X.shape\n",
    "Y = np.array([[1,2,3]])\n",
    "Y.shape\n",
    "X.dot(Y)\n",
    "Y.dot(X)"
   ]
  }
 ],
 "metadata": {
  "kernelspec": {
   "display_name": "Python 3",
   "language": "python",
   "name": "python3"
  },
  "language_info": {
   "codemirror_mode": {
    "name": "ipython",
    "version": 3
   },
   "file_extension": ".py",
   "mimetype": "text/x-python",
   "name": "python",
   "nbconvert_exporter": "python",
   "pygments_lexer": "ipython3",
   "version": "3.6.0"
  }
 },
 "nbformat": 4,
 "nbformat_minor": 2
}
